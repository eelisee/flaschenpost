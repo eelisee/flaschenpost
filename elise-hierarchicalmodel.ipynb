{
 "cells": [
  {
   "cell_type": "code",
   "execution_count": 4,
   "metadata": {},
   "outputs": [
    {
     "name": "stdout",
     "output_type": "stream",
     "text": [
      "size before remove outliers:  (15585053, 15)\n",
      "size after remove outliers:  (14329788, 15)\n",
      "size after add article total weight:  (14329788, 17)\n"
     ]
    },
    {
     "name": "stderr",
     "output_type": "stream",
     "text": [
      "/Users/canis/Library/CloudStorage/OneDrive-Persönlich/programme/coding/github/flaschenpost/_1_Preprocessing.py:57: FutureWarning: The behavior of array concatenation with empty entries is deprecated. In a future version, this will no longer exclude empty items when determining the result dtype. To retain the old behavior, exclude the empty entries before the concat operation.\n",
      "  article_id_dummies = df.groupby('web_order_id')['article_id'].apply(lambda x: pd.Series(\n"
     ]
    },
    {
     "name": "stdout",
     "output_type": "stream",
     "text": [
      "size after one hot encoding:  (14329788, 49)\n",
      "size after handle missing values:  (14329755, 49)\n",
      "size after service time start ordinal encoding:  (14329755, 49)\n",
      "size after train test split:  (11463804, 49) (2865951, 49)\n"
     ]
    }
   ],
   "source": [
    "import pandas as pd\n",
    "from IPython.display import display\n",
    "import _1_Preprocessing\n",
    "\n",
    "df_train, df_test = _1_Preprocessing.run_preprocessing()\n"
   ]
  },
  {
   "cell_type": "code",
   "execution_count": 11,
   "metadata": {},
   "outputs": [
    {
     "name": "stderr",
     "output_type": "stream",
     "text": [
      "Initializing NUTS using jitter+adapt_diag...\n",
      "Multiprocess sampling (4 chains in 4 jobs)\n",
      "NUTS: [beta0, beta, sigma_customer, sigma_driver, customer_effect, driver_effect, sigma]\n"
     ]
    },
    {
     "data": {
      "text/html": [
       "<pre style=\"white-space:pre;overflow-x:auto;line-height:normal;font-family:Menlo,'DejaVu Sans Mono',consolas,'Courier New',monospace\">/Users/canis/Library/CloudStorage/OneDrive-Persönlich/programme/coding/github/flaschenpost/.venv/lib/python3.11/sit\n",
       "e-packages/rich/live.py:231: UserWarning: install \"ipywidgets\" for Jupyter support\n",
       "  warnings.warn('install \"ipywidgets\" for Jupyter support')\n",
       "</pre>\n"
      ],
      "text/plain": [
       "/Users/canis/Library/CloudStorage/OneDrive-Persönlich/programme/coding/github/flaschenpost/.venv/lib/python3.11/sit\n",
       "e-packages/rich/live.py:231: UserWarning: install \"ipywidgets\" for Jupyter support\n",
       "  warnings.warn('install \"ipywidgets\" for Jupyter support')\n"
      ]
     },
     "metadata": {},
     "output_type": "display_data"
    },
    {
     "data": {
      "text/html": [
       "<pre style=\"white-space:pre;overflow-x:auto;line-height:normal;font-family:Menlo,'DejaVu Sans Mono',consolas,'Courier New',monospace\"></pre>\n"
      ],
      "text/plain": []
     },
     "metadata": {},
     "output_type": "display_data"
    },
    {
     "ename": "ValueError",
     "evalue": "Not enough samples to build a trace.",
     "output_type": "error",
     "traceback": [
      "\u001b[31m---------------------------------------------------------------------------\u001b[39m",
      "\u001b[31mValueError\u001b[39m                                Traceback (most recent call last)",
      "\u001b[36mCell\u001b[39m\u001b[36m \u001b[39m\u001b[32mIn[11]\u001b[39m\u001b[32m, line 76\u001b[39m\n\u001b[32m     73\u001b[39m     y_obs = pm.Normal(\u001b[33m'\u001b[39m\u001b[33my_obs\u001b[39m\u001b[33m'\u001b[39m, mu=mu, sigma=sigma, observed=y_train)\n\u001b[32m     75\u001b[39m     \u001b[38;5;66;03m# --- Sampling aus dem Posterior ---\u001b[39;00m\n\u001b[32m---> \u001b[39m\u001b[32m76\u001b[39m     trace = \u001b[43mpm\u001b[49m\u001b[43m.\u001b[49m\u001b[43msample\u001b[49m\u001b[43m(\u001b[49m\u001b[32;43m2000\u001b[39;49m\u001b[43m,\u001b[49m\u001b[43m \u001b[49m\u001b[43mtune\u001b[49m\u001b[43m=\u001b[49m\u001b[32;43m1000\u001b[39;49m\u001b[43m,\u001b[49m\u001b[43m \u001b[49m\u001b[43mtarget_accept\u001b[49m\u001b[43m=\u001b[49m\u001b[32;43m0.9\u001b[39;49m\u001b[43m,\u001b[49m\u001b[43m \u001b[49m\u001b[43mreturn_inferencedata\u001b[49m\u001b[43m=\u001b[49m\u001b[38;5;28;43;01mTrue\u001b[39;49;00m\u001b[43m)\u001b[49m\n\u001b[32m     78\u001b[39m \u001b[38;5;66;03m# =========================\u001b[39;00m\n\u001b[32m     79\u001b[39m \u001b[38;5;66;03m# Vorhersagen auf dem Testdatensatz berechnen\u001b[39;00m\n\u001b[32m     80\u001b[39m \u001b[38;5;66;03m# =========================\u001b[39;00m\n\u001b[32m     81\u001b[39m \n\u001b[32m     82\u001b[39m \u001b[38;5;66;03m# Wir extrahieren aus dem Trace die Posterior-Samples\u001b[39;00m\n\u001b[32m     83\u001b[39m beta0_samples = trace.posterior[\u001b[33m'\u001b[39m\u001b[33mbeta0\u001b[39m\u001b[33m'\u001b[39m].values.reshape(-\u001b[32m1\u001b[39m)  \u001b[38;5;66;03m# Globaler Intercept\u001b[39;00m\n",
      "\u001b[36mFile \u001b[39m\u001b[32m~/Library/CloudStorage/OneDrive-Persönlich/programme/coding/github/flaschenpost/.venv/lib/python3.11/site-packages/pymc/sampling/mcmc.py:964\u001b[39m, in \u001b[36msample\u001b[39m\u001b[34m(draws, tune, chains, cores, random_seed, progressbar, progressbar_theme, step, var_names, nuts_sampler, initvals, init, jitter_max_retries, n_init, trace, discard_tuned_samples, compute_convergence_checks, keep_warning_stat, return_inferencedata, idata_kwargs, nuts_sampler_kwargs, callback, mp_ctx, blas_cores, model, compile_kwargs, **kwargs)\u001b[39m\n\u001b[32m    960\u001b[39m t_sampling = time.time() - t_start\n\u001b[32m    962\u001b[39m \u001b[38;5;66;03m# Packaging, validating and returning the result was extracted\u001b[39;00m\n\u001b[32m    963\u001b[39m \u001b[38;5;66;03m# into a function to make it easier to test and refactor.\u001b[39;00m\n\u001b[32m--> \u001b[39m\u001b[32m964\u001b[39m \u001b[38;5;28;01mreturn\u001b[39;00m \u001b[43m_sample_return\u001b[49m\u001b[43m(\u001b[49m\n\u001b[32m    965\u001b[39m \u001b[43m    \u001b[49m\u001b[43mrun\u001b[49m\u001b[43m=\u001b[49m\u001b[43mrun\u001b[49m\u001b[43m,\u001b[49m\n\u001b[32m    966\u001b[39m \u001b[43m    \u001b[49m\u001b[43mtraces\u001b[49m\u001b[43m=\u001b[49m\u001b[43mtrace\u001b[49m\u001b[43m \u001b[49m\u001b[38;5;28;43;01mif\u001b[39;49;00m\u001b[43m \u001b[49m\u001b[38;5;28;43misinstance\u001b[39;49m\u001b[43m(\u001b[49m\u001b[43mtrace\u001b[49m\u001b[43m,\u001b[49m\u001b[43m \u001b[49m\u001b[43mZarrTrace\u001b[49m\u001b[43m)\u001b[49m\u001b[43m \u001b[49m\u001b[38;5;28;43;01melse\u001b[39;49;00m\u001b[43m \u001b[49m\u001b[43mtraces\u001b[49m\u001b[43m,\u001b[49m\n\u001b[32m    967\u001b[39m \u001b[43m    \u001b[49m\u001b[43mtune\u001b[49m\u001b[43m=\u001b[49m\u001b[43mtune\u001b[49m\u001b[43m,\u001b[49m\n\u001b[32m    968\u001b[39m \u001b[43m    \u001b[49m\u001b[43mt_sampling\u001b[49m\u001b[43m=\u001b[49m\u001b[43mt_sampling\u001b[49m\u001b[43m,\u001b[49m\n\u001b[32m    969\u001b[39m \u001b[43m    \u001b[49m\u001b[43mdiscard_tuned_samples\u001b[49m\u001b[43m=\u001b[49m\u001b[43mdiscard_tuned_samples\u001b[49m\u001b[43m,\u001b[49m\n\u001b[32m    970\u001b[39m \u001b[43m    \u001b[49m\u001b[43mcompute_convergence_checks\u001b[49m\u001b[43m=\u001b[49m\u001b[43mcompute_convergence_checks\u001b[49m\u001b[43m,\u001b[49m\n\u001b[32m    971\u001b[39m \u001b[43m    \u001b[49m\u001b[43mreturn_inferencedata\u001b[49m\u001b[43m=\u001b[49m\u001b[43mreturn_inferencedata\u001b[49m\u001b[43m,\u001b[49m\n\u001b[32m    972\u001b[39m \u001b[43m    \u001b[49m\u001b[43mkeep_warning_stat\u001b[49m\u001b[43m=\u001b[49m\u001b[43mkeep_warning_stat\u001b[49m\u001b[43m,\u001b[49m\n\u001b[32m    973\u001b[39m \u001b[43m    \u001b[49m\u001b[43midata_kwargs\u001b[49m\u001b[43m=\u001b[49m\u001b[43midata_kwargs\u001b[49m\u001b[43m \u001b[49m\u001b[38;5;129;43;01mor\u001b[39;49;00m\u001b[43m \u001b[49m\u001b[43m{\u001b[49m\u001b[43m}\u001b[49m\u001b[43m,\u001b[49m\n\u001b[32m    974\u001b[39m \u001b[43m    \u001b[49m\u001b[43mmodel\u001b[49m\u001b[43m=\u001b[49m\u001b[43mmodel\u001b[49m\u001b[43m,\u001b[49m\n\u001b[32m    975\u001b[39m \u001b[43m\u001b[49m\u001b[43m)\u001b[49m\n",
      "\u001b[36mFile \u001b[39m\u001b[32m~/Library/CloudStorage/OneDrive-Persönlich/programme/coding/github/flaschenpost/.venv/lib/python3.11/site-packages/pymc/sampling/mcmc.py:1049\u001b[39m, in \u001b[36m_sample_return\u001b[39m\u001b[34m(run, traces, tune, t_sampling, discard_tuned_samples, compute_convergence_checks, return_inferencedata, keep_warning_stat, idata_kwargs, model)\u001b[39m\n\u001b[32m   1047\u001b[39m \u001b[38;5;66;03m# Pick and slice chains to keep the maximum number of samples\u001b[39;00m\n\u001b[32m   1048\u001b[39m \u001b[38;5;28;01mif\u001b[39;00m discard_tuned_samples:\n\u001b[32m-> \u001b[39m\u001b[32m1049\u001b[39m     traces, length = \u001b[43m_choose_chains\u001b[49m\u001b[43m(\u001b[49m\u001b[43mtraces\u001b[49m\u001b[43m,\u001b[49m\u001b[43m \u001b[49m\u001b[43mtune\u001b[49m\u001b[43m)\u001b[49m\n\u001b[32m   1050\u001b[39m \u001b[38;5;28;01melse\u001b[39;00m:\n\u001b[32m   1051\u001b[39m     traces, length = _choose_chains(traces, \u001b[32m0\u001b[39m)\n",
      "\u001b[36mFile \u001b[39m\u001b[32m~/Library/CloudStorage/OneDrive-Persönlich/programme/coding/github/flaschenpost/.venv/lib/python3.11/site-packages/pymc/backends/base.py:624\u001b[39m, in \u001b[36m_choose_chains\u001b[39m\u001b[34m(traces, tune)\u001b[39m\n\u001b[32m    622\u001b[39m lengths = [\u001b[38;5;28mmax\u001b[39m(\u001b[32m0\u001b[39m, \u001b[38;5;28mlen\u001b[39m(trace) - tune) \u001b[38;5;28;01mfor\u001b[39;00m trace \u001b[38;5;129;01min\u001b[39;00m traces]\n\u001b[32m    623\u001b[39m \u001b[38;5;28;01mif\u001b[39;00m \u001b[38;5;129;01mnot\u001b[39;00m \u001b[38;5;28msum\u001b[39m(lengths):\n\u001b[32m--> \u001b[39m\u001b[32m624\u001b[39m     \u001b[38;5;28;01mraise\u001b[39;00m \u001b[38;5;167;01mValueError\u001b[39;00m(\u001b[33m\"\u001b[39m\u001b[33mNot enough samples to build a trace.\u001b[39m\u001b[33m\"\u001b[39m)\n\u001b[32m    626\u001b[39m idxs = np.argsort(lengths)\n\u001b[32m    627\u001b[39m l_sort = np.array(lengths)[idxs]\n",
      "\u001b[31mValueError\u001b[39m: Not enough samples to build a trace."
     ]
    }
   ],
   "source": [
    "import numpy as np\n",
    "import pandas as pd\n",
    "from sklearn.preprocessing import StandardScaler\n",
    "import pymc as pm\n",
    "from sklearn.metrics import mean_squared_error, mean_absolute_error\n",
    "\n",
    "# =========================\n",
    "# Datenvorbereitung\n",
    "# =========================\n",
    "\n",
    "# Definiere die Featureliste (hier z.B. Artikelgewicht, Booleans, Stock, etc.)\n",
    "features = [\n",
    "    \"article_weight_in_g\", \"is_business\", \"is_pre_order\", \"has_elevator\", \"floor\", \n",
    "    \"num_previous_orders_customer\", \"customer_speed\"\n",
    "]\n",
    "# Ergänze Features, die mit 'crate_count_' und 'article_id_' beginnen\n",
    "features += [col for col in df_train.columns if col.startswith('crate_count_')]\n",
    "features += [col for col in df_train.columns if col.startswith('article_id_')]\n",
    "\n",
    "# Extrahiere die Prädiktoren und das Target aus dem Trainingsdatensatz\n",
    "X_train = df_train[features].values\n",
    "y_train = df_train['service_time_in_minutes'].values\n",
    "\n",
    "# Ebenso für den Testdatensatz\n",
    "X_test = df_test[features].values\n",
    "y_test = df_test['service_time_in_minutes'].values\n",
    "\n",
    "# Skaliere die kontinuierlichen Features (wichtig für Konvergenz)\n",
    "scaler = StandardScaler()\n",
    "X_train_scaled = scaler.fit_transform(X_train)\n",
    "X_test_scaled = scaler.transform(X_test)\n",
    "\n",
    "# =========================\n",
    "# Gruppierungsvariablen definieren\n",
    "# =========================\n",
    "\n",
    "# Konvertiere customer_id und driver_id in numerische Codes\n",
    "customer_ids_train = df_train['customer_id'].astype('category').cat.codes.values\n",
    "driver_ids_train   = df_train['driver_id'].astype('category').cat.codes.values\n",
    "\n",
    "# Für den Testdatensatz (achte darauf, dass die Kategorien konsistent sind)\n",
    "customer_ids_test = df_test['customer_id'].astype('category').cat.codes.values\n",
    "driver_ids_test   = df_test['driver_id'].astype('category').cat.codes.values\n",
    "\n",
    "# Anzahl der Gruppen und Features\n",
    "n_customers = len(np.unique(customer_ids_train))\n",
    "n_drivers   = len(np.unique(driver_ids_train))\n",
    "n_features  = X_train_scaled.shape[1]\n",
    "\n",
    "# =========================\n",
    "# Hierarchisches Bayesian Modell definieren und anpassen\n",
    "# =========================\n",
    "\n",
    "with pm.Model() as hier_model:\n",
    "    # --- Globale Effekte ---\n",
    "    beta0 = pm.Normal('beta0', mu=0, sigma=10)                   # Globaler Intercept\n",
    "    beta  = pm.Normal('beta', mu=0, sigma=10, shape=n_features)     # Koeffizienten für die erklärenden Variablen\n",
    "    \n",
    "    # --- Gruppen-spezifische Effekte ---\n",
    "    # Wir modellieren einen individuellen Effekt pro Customer und pro Driver.\n",
    "    sigma_customer = pm.HalfNormal('sigma_customer', sigma=5)\n",
    "    sigma_driver   = pm.HalfNormal('sigma_driver', sigma=5)\n",
    "    \n",
    "    customer_effect = pm.Normal('customer_effect', mu=0, sigma=sigma_customer, shape=n_customers)\n",
    "    driver_effect   = pm.Normal('driver_effect', mu=0, sigma=sigma_driver, shape=n_drivers)\n",
    "    \n",
    "    # --- Erwartungswert der Beobachtungen ---\n",
    "    # Lineare Kombination aus globalen Effekten, den Prädiktoren sowie den gruppenspezifischen Effekten\n",
    "    mu = beta0 + pm.math.dot(X_train_scaled, beta) + customer_effect[customer_ids_train] + driver_effect[driver_ids_train]\n",
    "    \n",
    "    # --- Likelihood ---\n",
    "    sigma = pm.HalfNormal('sigma', sigma=5)\n",
    "    y_obs = pm.Normal('y_obs', mu=mu, sigma=sigma, observed=y_train)\n",
    "    \n",
    "    # --- Sampling aus dem Posterior ---\n",
    "    trace = pm.sample(2000, tune=1000, target_accept=0.9, return_inferencedata=True)\n",
    "\n",
    "# =========================\n",
    "# Vorhersagen auf dem Testdatensatz berechnen\n",
    "# =========================\n",
    "\n",
    "# Wir extrahieren aus dem Trace die Posterior-Samples\n",
    "beta0_samples = trace.posterior['beta0'].values.reshape(-1)  # Globaler Intercept\n",
    "beta_samples = trace.posterior['beta'].values.reshape(-1, n_features)  # Koeffizienten\n",
    "customer_effect_samples = trace.posterior['customer_effect'].values.reshape(-1, n_customers)\n",
    "driver_effect_samples = trace.posterior['driver_effect'].values.reshape(-1, n_drivers)\n",
    "\n",
    "# Gesamtzahl der Posterior-Samples\n",
    "n_samples = beta0_samples.shape[0]\n",
    "n_test = X_test_scaled.shape[0]\n",
    "\n",
    "# Für jeden Posterior-Sample berechnen wir eine Vorhersage für alle Testbeobachtungen\n",
    "predictions = np.zeros((n_samples, n_test))\n",
    "for i in range(n_samples):\n",
    "    predictions[i, :] = (beta0_samples[i] +\n",
    "                         np.dot(X_test_scaled, beta_samples[i]) +\n",
    "                         customer_effect_samples[i][customer_ids_test] +\n",
    "                         driver_effect_samples[i][driver_ids_test])\n",
    "    \n",
    "# Für jede Testbeobachtung mitteln wir über alle Samples, um einen Punkt-Schätzwert zu erhalten\n",
    "y_pred_mean = predictions.mean(axis=0)\n",
    "\n",
    "# =========================\n",
    "# Berechnung der Fehlermaße: MSE und MAE\n",
    "# =========================\n",
    "\n",
    "mse = mean_squared_error(y_test, y_pred_mean)\n",
    "mae = mean_absolute_error(y_test, y_pred_mean)\n",
    "\n",
    "print(\"Test Mean Squared Error (MSE):\", mse)\n",
    "print(\"Test Mean Absolute Error (MAE):\", mae)"
   ]
  },
  {
   "cell_type": "code",
   "execution_count": null,
   "metadata": {},
   "outputs": [],
   "source": []
  }
 ],
 "metadata": {
  "kernelspec": {
   "display_name": ".venv",
   "language": "python",
   "name": "python3"
  },
  "language_info": {
   "codemirror_mode": {
    "name": "ipython",
    "version": 3
   },
   "file_extension": ".py",
   "mimetype": "text/x-python",
   "name": "python",
   "nbconvert_exporter": "python",
   "pygments_lexer": "ipython3",
   "version": "3.11.5"
  }
 },
 "nbformat": 4,
 "nbformat_minor": 2
}
